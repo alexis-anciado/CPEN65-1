{
  "nbformat": 4,
  "nbformat_minor": 0,
  "metadata": {
    "colab": {
      "provenance": [],
      "authorship_tag": "ABX9TyPMkuBa/x0HLVLl/CatbmhK",
      "include_colab_link": true
    },
    "kernelspec": {
      "name": "python3",
      "display_name": "Python 3"
    },
    "language_info": {
      "name": "python"
    }
  },
  "cells": [
    {
      "cell_type": "markdown",
      "metadata": {
        "id": "view-in-github",
        "colab_type": "text"
      },
      "source": [
        "<a href=\"https://colab.research.google.com/github/alexis-anciado/CPEN65-1/blob/main/Activity_2.ipynb\" target=\"_parent\"><img src=\"https://colab.research.google.com/assets/colab-badge.svg\" alt=\"Open In Colab\"/></a>"
      ]
    },
    {
      "cell_type": "code",
      "execution_count": 24,
      "metadata": {
        "colab": {
          "base_uri": "https://localhost:8080/"
        },
        "id": "YnIKWMMO1-Fm",
        "outputId": "ecd97519-f122-4084-c5cf-c97111f9f1eb"
      },
      "outputs": [
        {
          "output_type": "stream",
          "name": "stdout",
          "text": [
            "Full name: AlexisJelynAnciado\n",
            "Reversed full name: odaicnAnyleJsixelA\n"
          ]
        }
      ],
      "source": [
        "###1. Create a python program that use Array\n",
        "###2. Insert each character of your full name and displays each character of your full name in reverse order\n",
        "\n",
        "fullname = [\"A\",\"l\",\"e\",\"x\",\"i\",\"s\",\"J\",\"e\",\"l\",\"y\",\"n\",\"A\",\"n\",\"c\",\"i\",\"a\",\"d\",\"o\"]\n",
        "print(\"Full name:\", \"\".join(fullname))\n",
        "fullname.reverse()\n",
        "print(\"Reversed full name:\", \"\".join(fullname))\n",
        "\n"
      ]
    }
  ]
}