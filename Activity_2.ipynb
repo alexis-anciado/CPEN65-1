{
  "nbformat": 4,
  "nbformat_minor": 0,
  "metadata": {
    "colab": {
      "provenance": [],
      "authorship_tag": "ABX9TyPZSmQKPfnj6enbF/xZ8nFX",
      "include_colab_link": true
    },
    "kernelspec": {
      "name": "python3",
      "display_name": "Python 3"
    },
    "language_info": {
      "name": "python"
    }
  },
  "cells": [
    {
      "cell_type": "markdown",
      "metadata": {
        "id": "view-in-github",
        "colab_type": "text"
      },
      "source": [
        "<a href=\"https://colab.research.google.com/github/alexis-anciado/CPEN65-1/blob/main/Activity_2.ipynb\" target=\"_parent\"><img src=\"https://colab.research.google.com/assets/colab-badge.svg\" alt=\"Open In Colab\"/></a>"
      ]
    },
    {
      "cell_type": "markdown",
      "source": [
        "######1. Create a python program that use Array\n",
        "######2. Insert each character of your full name and displays each character of your full name in reverse order\n"
      ],
      "metadata": {
        "id": "i1VvNl026rql"
      }
    },
    {
      "cell_type": "code",
      "execution_count": 25,
      "metadata": {
        "colab": {
          "base_uri": "https://localhost:8080/"
        },
        "id": "YnIKWMMO1-Fm",
        "outputId": "b4841029-6e0b-4041-f18a-c392f9177796"
      },
      "outputs": [
        {
          "output_type": "stream",
          "name": "stdout",
          "text": [
            "Full name: alexisjelynanciado\n",
            "Reversed full name: odaicnanylejsixela\n"
          ]
        }
      ],
      "source": [
        "fullname = [\"a\",\"l\",\"e\",\"x\",\"i\",\"s\",\"j\",\"e\",\"l\",\"y\",\"n\",\"a\",\"n\",\"c\",\"i\",\"a\",\"d\",\"o\"]\n",
        "print(\"Full name:\", \"\".join(fullname))\n",
        "fullname.reverse()\n",
        "print(\"Reversed full name:\", \"\".join(fullname))\n",
        "\n"
      ]
    }
  ]
}