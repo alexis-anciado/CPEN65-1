{
  "nbformat": 4,
  "nbformat_minor": 0,
  "metadata": {
    "colab": {
      "provenance": [],
      "authorship_tag": "ABX9TyNzz75bjAht66qdbIkyl5Gy",
      "include_colab_link": true
    },
    "kernelspec": {
      "name": "python3",
      "display_name": "Python 3"
    },
    "language_info": {
      "name": "python"
    }
  },
  "cells": [
    {
      "cell_type": "markdown",
      "metadata": {
        "id": "view-in-github",
        "colab_type": "text"
      },
      "source": [
        "<a href=\"https://colab.research.google.com/github/alexis-anciado/CPEN65-1/blob/main/Anciado%2CAlexis_Jelyn_Midterm_Exam.ipynb\" target=\"_parent\"><img src=\"https://colab.research.google.com/assets/colab-badge.svg\" alt=\"Open In Colab\"/></a>"
      ]
    },
    {
      "cell_type": "markdown",
      "source": [
        "1. Write a Python program to create an array of 10 integers and display the array items. Access individual elements through indexes and compute for the sum."
      ],
      "metadata": {
        "id": "Rq0fAxeuGXQ4"
      }
    },
    {
      "cell_type": "code",
      "execution_count": 42,
      "metadata": {
        "id": "SWYLD59zGTxH",
        "colab": {
          "base_uri": "https://localhost:8080/"
        },
        "outputId": "4c364e0b-3194-4d68-ed95-eba6ee5dc709"
      },
      "outputs": [
        {
          "output_type": "stream",
          "name": "stdout",
          "text": [
            "[-55, 41, 49, -3, -91, 22, -91, -76, 49, 51]\n",
            "Find the Index of: 41\n",
            "1\n",
            "-104\n"
          ]
        }
      ],
      "source": [
        "import random\n",
        "\n",
        "a, b, c, d, e, f, g, h, i, j = random.randint(-100, 100), random.randint(-100, 100), random.randint(-100, 100), random.randint(-100, 100), random.randint(-100, 100), random.randint(-100, 100), random.randint(-100, 100), random.randint(-100, 100), random.randint(-100, 100), random.randint(-100, 100)\n",
        "array = [a, b, c, d, e, f, g, h, i, j]\n",
        "print(array)\n",
        "print(array.index(int(input(\"Find the Index of: \"))))\n",
        "sum = a + b + c + d + e + f + g + h  + i + j\n",
        "print(sum)\n"
      ]
    },
    {
      "cell_type": "markdown",
      "source": [
        "2. Write a Python program to append a new item to the end of the array. Original array: numbers = [1, 2, 3, 4, 5, 6, 7, 8, 9, 10]\n"
      ],
      "metadata": {
        "id": "hdVNBX5HGdyX"
      }
    },
    {
      "cell_type": "code",
      "source": [
        "numbers = [1, 2, 3, 4, 5, 6, 7, 8, 9, 10]\n",
        "print(\"Original Array: \", numbers)\n",
        "numbers.append(int(input(\"Add a number at the end of the array: \")))\n",
        "print(\"Updated Array: \", numbers)"
      ],
      "metadata": {
        "id": "k7CiiIX2GdK5",
        "colab": {
          "base_uri": "https://localhost:8080/"
        },
        "outputId": "454b356b-afd1-43ee-9571-6187dcd7829e"
      },
      "execution_count": 36,
      "outputs": [
        {
          "output_type": "stream",
          "name": "stdout",
          "text": [
            "Original Array:  [1, 2, 3, 4, 5, 6, 7, 8, 9, 10]\n",
            "Add a number at the end of the array: 88\n",
            "Updated Array:  [1, 2, 3, 4, 5, 6, 7, 8, 9, 10, 88]\n"
          ]
        }
      ]
    },
    {
      "cell_type": "markdown",
      "source": [
        "3. Write a Python program to insert a new item before the last element in an existing array. Original array: numbers = [1, 2, 3, 4, 5, 6, 7, 8, 9, 10]\n"
      ],
      "metadata": {
        "id": "Kl2zibYdHqoa"
      }
    },
    {
      "cell_type": "code",
      "source": [
        "numbers = [1, 2, 3, 4, 5, 6, 7, 8, 9, 10]\n",
        "print(\"Original Array: \", numbers)\n",
        "numbers.insert(9, int(input(\"Add a number before the end of the array: \")))\n",
        "print(\"Updated Array: \", numbers)"
      ],
      "metadata": {
        "colab": {
          "base_uri": "https://localhost:8080/"
        },
        "id": "6CUYdmV6HqGa",
        "outputId": "2d925d8d-50c9-4e72-e8e4-4dc2b0358e0b"
      },
      "execution_count": 37,
      "outputs": [
        {
          "output_type": "stream",
          "name": "stdout",
          "text": [
            "Original Array:  [1, 2, 3, 4, 5, 6, 7, 8, 9, 10]\n",
            "Add a number before the end of the array: -13\n",
            "Updated Array:  [1, 2, 3, 4, 5, 6, 7, 8, 9, -13, 10]\n"
          ]
        }
      ]
    },
    {
      "cell_type": "markdown",
      "source": [
        "4. Write a Python program to reverse the order of the items in the array. Original array: numbers = [1, 2, 3, 4, 5]"
      ],
      "metadata": {
        "id": "OFbrD8ijIeyM"
      }
    },
    {
      "cell_type": "code",
      "source": [
        "numbers = [1, 2, 3, 4, 5]\n",
        "print(\"Original Array: \", numbers)\n",
        "numbers.reverse()\n",
        "print(\"Reversed Array: \", numbers)"
      ],
      "metadata": {
        "colab": {
          "base_uri": "https://localhost:8080/"
        },
        "id": "5EvlPzwjIiGd",
        "outputId": "f3b0fcbd-eef8-4f10-b8b7-090429ebec60"
      },
      "execution_count": 39,
      "outputs": [
        {
          "output_type": "stream",
          "name": "stdout",
          "text": [
            "Original Array:  [1, 2, 3, 4, 5]\n",
            "Reversed Array:  [5, 4, 3, 2, 1]\n"
          ]
        }
      ]
    },
    {
      "cell_type": "markdown",
      "source": [
        "5. Let A be an array of size n ≥ 2 containing integers from 1 to n−1, inclusive, with exactly one repeated. Create an algorithm for finding the integer in A that is repeated."
      ],
      "metadata": {
        "id": "ex1bsH_sJJjr"
      }
    },
    {
      "cell_type": "code",
      "source": [
        "import random\n",
        "\n",
        "a, b, c, d, e = random.randint(1, 100), random.randint(1, 100), random.randint(1, 100), random.randint(1, 100), random.randint(1, 100)\n",
        "A = [a, b, c, d, e]\n",
        "B = []\n",
        "for x in A:\n",
        "  if x not in B:\n",
        "    B.append(x)\n",
        "  else:\n",
        "    print(x, \"is the integer repeated in array\", A)"
      ],
      "metadata": {
        "colab": {
          "base_uri": "https://localhost:8080/"
        },
        "id": "scV6tqAFJKXM",
        "outputId": "184efe83-db8c-4d98-f516-b5e0565cae54"
      },
      "execution_count": 123,
      "outputs": [
        {
          "output_type": "stream",
          "name": "stdout",
          "text": [
            "5 is the integer repeated in array [69, 76, 85, 5, 5]\n"
          ]
        }
      ]
    }
  ]
}