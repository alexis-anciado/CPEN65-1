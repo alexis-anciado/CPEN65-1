{
  "nbformat": 4,
  "nbformat_minor": 0,
  "metadata": {
    "colab": {
      "provenance": [],
      "authorship_tag": "ABX9TyP65aFf5UHs4AeTLD/ftIhD"
    },
    "kernelspec": {
      "name": "python3",
      "display_name": "Python 3"
    },
    "language_info": {
      "name": "python"
    }
  },
  "cells": [
    {
      "cell_type": "markdown",
      "source": [
        "####Code that computes the Area of the Circle using radius"
      ],
      "metadata": {
        "id": "kpB9Kt-JO_OR"
      }
    },
    {
      "cell_type": "code",
      "source": [
        "import math\n",
        "radius = int(input(\"Radius: \"))\n",
        "area_using_radius= (math.pi * (radius**2))\n",
        "print(\"Area: \", round(area_using_radius))"
      ],
      "metadata": {
        "colab": {
          "base_uri": "https://localhost:8080/"
        },
        "id": "5xJN-JJ-QS-e",
        "outputId": "a15ff180-b8cd-472f-ef28-fd1d9e9dce23"
      },
      "execution_count": 17,
      "outputs": [
        {
          "output_type": "stream",
          "name": "stdout",
          "text": [
            "Radius: 25\n",
            "Area:  1963.5\n"
          ]
        }
      ]
    },
    {
      "cell_type": "markdown",
      "source": [
        "###Code that computes the Area of the Circle using diameter"
      ],
      "metadata": {
        "id": "XtNe4edKPKCi"
      }
    },
    {
      "cell_type": "code",
      "execution_count": 10,
      "metadata": {
        "colab": {
          "base_uri": "https://localhost:8080/"
        },
        "id": "vMcWNgrlQR-k",
        "outputId": "4513e992-917f-4cff-8c5d-6fdf5f0f0624"
      },
      "outputs": [
        {
          "output_type": "stream",
          "name": "stdout",
          "text": [
            "Diameter: 50\n",
            "Area:  1963\n"
          ]
        }
      ],
      "source": [
        "import math\n",
        "diameter = int(input(\"Diameter: \"))\n",
        "area_using_diameter = (math.pi* (diameter**2))/4\n",
        "print(\"Area: \", round(area_using_diameter))"
      ]
    }
  ]
}