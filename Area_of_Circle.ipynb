{
  "nbformat": 4,
  "nbformat_minor": 0,
  "metadata": {
    "colab": {
      "provenance": [],
      "collapsed_sections": [],
      "authorship_tag": "ABX9TyP65aFf5UHs4AeTLD/ftIhD",
      "include_colab_link": true
    },
    "kernelspec": {
      "name": "python3",
      "display_name": "Python 3"
    },
    "language_info": {
      "name": "python"
    }
  },
  "cells": [
    {
      "cell_type": "markdown",
      "metadata": {
        "id": "view-in-github",
        "colab_type": "text"
      },
      "source": [
        "<a href=\"https://colab.research.google.com/github/alexis-anciado/CPEN65-1/blob/main/Area_of_Circle.ipynb\" target=\"_parent\"><img src=\"https://colab.research.google.com/assets/colab-badge.svg\" alt=\"Open In Colab\"/></a>"
      ]
    },
    {
      "cell_type": "markdown",
      "source": [
        "####Code that computes the Area of the Circle using radius"
      ],
      "metadata": {
        "id": "kpB9Kt-JO_OR"
      }
    },
    {
      "cell_type": "code",
      "source": [
        "import math\n",
        "radius = int(input(\"Radius: \"))\n",
        "area_using_radius= (math.pi * (radius**2))\n",
        "print(\"Area: \", round(area_using_radius))"
      ],
      "metadata": {
        "colab": {
          "base_uri": "https://localhost:8080/"
        },
        "id": "5xJN-JJ-QS-e",
        "outputId": "61018438-1e56-4ac2-8c2d-4b290ff8e4ac"
      },
      "execution_count": 18,
      "outputs": [
        {
          "output_type": "stream",
          "name": "stdout",
          "text": [
            "Radius: 25\n",
            "Area:  1963\n"
          ]
        }
      ]
    },
    {
      "cell_type": "markdown",
      "source": [
        "###Code that computes the Area of the Circle using diameter"
      ],
      "metadata": {
        "id": "XtNe4edKPKCi"
      }
    },
    {
      "cell_type": "code",
      "execution_count": 19,
      "metadata": {
        "colab": {
          "base_uri": "https://localhost:8080/"
        },
        "id": "vMcWNgrlQR-k",
        "outputId": "2b178107-d63c-421e-c5c8-decc209ce863"
      },
      "outputs": [
        {
          "output_type": "stream",
          "name": "stdout",
          "text": [
            "Diameter: 50\n",
            "Area:  1963\n"
          ]
        }
      ],
      "source": [
        "import math\n",
        "diameter = int(input(\"Diameter: \"))\n",
        "area_using_diameter = (math.pi* (diameter**2))/4\n",
        "print(\"Area: \", round(area_using_diameter))"
      ]
    }
  ]
}