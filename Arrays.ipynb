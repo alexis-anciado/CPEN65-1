{
  "nbformat": 4,
  "nbformat_minor": 0,
  "metadata": {
    "colab": {
      "provenance": [],
      "authorship_tag": "ABX9TyMtqfL+JwT7mMJb/JqhsH4e",
      "include_colab_link": true
    },
    "kernelspec": {
      "name": "python3",
      "display_name": "Python 3"
    },
    "language_info": {
      "name": "python"
    }
  },
  "cells": [
    {
      "cell_type": "markdown",
      "metadata": {
        "id": "view-in-github",
        "colab_type": "text"
      },
      "source": [
        "<a href=\"https://colab.research.google.com/github/alexis-anciado/CPEN65-1/blob/main/Arrays.ipynb\" target=\"_parent\"><img src=\"https://colab.research.google.com/assets/colab-badge.svg\" alt=\"Open In Colab\"/></a>"
      ]
    },
    {
      "cell_type": "code",
      "execution_count": 5,
      "metadata": {
        "colab": {
          "base_uri": "https://localhost:8080/"
        },
        "id": "5dv-aadp4Y_B",
        "outputId": "3f07a4e9-9a71-4f3c-d5c3-c072ba5a3c4b"
      },
      "outputs": [
        {
          "output_type": "stream",
          "name": "stdout",
          "text": [
            "Array [0]= cat\n",
            "Array [1]= dog\n",
            "Array [2]= fish\n"
          ]
        }
      ],
      "source": [
        "#Accessing the elements in an Array\n",
        "animals = [\"cat\", \"dog\", \"fish\"]\n",
        "x = animals[0]\n",
        "y = animals[1]\n",
        "z = animals[2]\n",
        "print(\"Array [0]=\", x)\n",
        "print(\"Array [1]=\", y)\n",
        "print(\"Array [2]=\", z)"
      ]
    },
    {
      "cell_type": "code",
      "source": [
        "#Modifying the elements in the Array\n",
        "animals = [\"cat\", \"dog\", \"fish\"]\n",
        "animals[0] = \"monkey\"\n",
        "x = animals[0]\n",
        "print(\"Array [0]=\", x)\n",
        "print(animals)"
      ],
      "metadata": {
        "colab": {
          "base_uri": "https://localhost:8080/"
        },
        "id": "GSxAOX6y5W2S",
        "outputId": "94377cc7-975e-4226-823a-34732b485cf1"
      },
      "execution_count": 10,
      "outputs": [
        {
          "output_type": "stream",
          "name": "stdout",
          "text": [
            "Array [0]= monkey\n",
            "['monkey', 'dog', 'fish']\n"
          ]
        }
      ]
    },
    {
      "cell_type": "code",
      "source": [
        "#Length of an array\n",
        "animals = [\"monkey\", \"dog\", \"fish\", \"cat\", \"birds\"]\n",
        "v = len(animals)\n",
        "print(v)"
      ],
      "metadata": {
        "colab": {
          "base_uri": "https://localhost:8080/"
        },
        "id": "LNyfMXdq6D4m",
        "outputId": "a5314b3b-8852-4145-c1b5-0388d86a79d1"
      },
      "execution_count": 15,
      "outputs": [
        {
          "output_type": "stream",
          "name": "stdout",
          "text": [
            "5\n"
          ]
        }
      ]
    },
    {
      "cell_type": "code",
      "source": [
        "#Looping Array Elements\n",
        "animals = [\"monkey\", \"dog\", \"fish\", \"cat\", \"birds\"]\n",
        "for x in animals:\n",
        "  print(x)\n",
        "  "
      ],
      "metadata": {
        "colab": {
          "base_uri": "https://localhost:8080/"
        },
        "id": "x86B0qAL6pNz",
        "outputId": "109597db-c28e-4c98-f9c8-bf1d894942f3"
      },
      "execution_count": 17,
      "outputs": [
        {
          "output_type": "stream",
          "name": "stdout",
          "text": [
            "monkey\n",
            "dog\n",
            "fish\n",
            "cat\n",
            "birds\n"
          ]
        }
      ]
    },
    {
      "cell_type": "code",
      "source": [
        "animals = [\"monkey\", \"dog\", \"fish\", \"cat\", \"birds\"]\n",
        "for index, val in enumerate(animals):\n",
        "  print(index, val)"
      ],
      "metadata": {
        "id": "aFBAwfK79LSg"
      },
      "execution_count": null,
      "outputs": []
    },
    {
      "cell_type": "code",
      "source": [
        "#Adding Elements in the Array\n",
        "animals = [\"monkey\", \"dog\", \"fish\", \"cat\", \"birds\"]\n",
        "animals.append(\"lion\")\n",
        "print(animals)"
      ],
      "metadata": {
        "colab": {
          "base_uri": "https://localhost:8080/"
        },
        "id": "r3QqAwG79TMw",
        "outputId": "157e0bd7-0c61-44a1-aa54-429de76ff836"
      },
      "execution_count": 19,
      "outputs": [
        {
          "output_type": "stream",
          "name": "stdout",
          "text": [
            "['monkey', 'dog', 'fish', 'cat', 'birds', 'lion']\n"
          ]
        }
      ]
    },
    {
      "cell_type": "code",
      "source": [
        "#Write a Python program to insert a new item ('11' before the second element in the existing array)\n",
        "numbers = [1,2,3,4,5,6,7,8,9,10]\n",
        "numbers.insert(1,11)\n",
        "print(numbers)\n"
      ],
      "metadata": {
        "colab": {
          "base_uri": "https://localhost:8080/"
        },
        "id": "nSPbqmoG956j",
        "outputId": "d6a18482-6142-403d-b631-92dcc8c3c7a7"
      },
      "execution_count": 24,
      "outputs": [
        {
          "output_type": "stream",
          "name": "stdout",
          "text": [
            "[1, 11, 2, 3, 4, 5, 6, 7, 8, 9, 10]\n"
          ]
        }
      ]
    },
    {
      "cell_type": "code",
      "source": [
        "#Removing the element/s in an Array\n",
        "print(numbers)\n",
        "numbers.pop(1)\n",
        "print(numbers)"
      ],
      "metadata": {
        "colab": {
          "base_uri": "https://localhost:8080/"
        },
        "id": "RqIe_9s5_AT2",
        "outputId": "abc043c2-787b-4bca-9c84-15837d09b087"
      },
      "execution_count": 25,
      "outputs": [
        {
          "output_type": "stream",
          "name": "stdout",
          "text": [
            "[1, 11, 2, 3, 4, 5, 6, 7, 8, 9, 10]\n",
            "[1, 2, 3, 4, 5, 6, 7, 8, 9, 10]\n"
          ]
        }
      ]
    }
  ]
}