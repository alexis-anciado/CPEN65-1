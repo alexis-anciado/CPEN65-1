{
  "nbformat": 4,
  "nbformat_minor": 0,
  "metadata": {
    "colab": {
      "provenance": [],
      "authorship_tag": "ABX9TyMyYb6xrMYbVnyD8g6yyplh",
      "include_colab_link": true
    },
    "kernelspec": {
      "name": "python3",
      "display_name": "Python 3"
    },
    "language_info": {
      "name": "python"
    }
  },
  "cells": [
    {
      "cell_type": "markdown",
      "metadata": {
        "id": "view-in-github",
        "colab_type": "text"
      },
      "source": [
        "<a href=\"https://colab.research.google.com/github/alexis-anciado/CPEN65-1/blob/main/Stack_and_Queues.ipynb\" target=\"_parent\"><img src=\"https://colab.research.google.com/assets/colab-badge.svg\" alt=\"Open In Colab\"/></a>"
      ]
    },
    {
      "cell_type": "code",
      "execution_count": 11,
      "metadata": {
        "colab": {
          "base_uri": "https://localhost:8080/"
        },
        "id": "sZsR80vDe0W_",
        "outputId": "07348f84-7053-42e2-d99c-751ca9383c97"
      },
      "outputs": [
        {
          "output_type": "stream",
          "name": "stdout",
          "text": [
            "['A', 'B', 'C']\n",
            "['A']\n"
          ]
        }
      ],
      "source": [
        "class Stack:\n",
        "  def __init__(self):\n",
        "    self.stack = []      #stack implementation using OOP concepts\n",
        "\n",
        "  def push(self, dataval):\n",
        "    if dataval not in self.stack:\n",
        "     return self.stack.append(dataval)\n",
        "    else:\n",
        "      return (\"Stack is already full\")\n",
        "\n",
        "  def pop(self):\n",
        "    if len(self.stack)<=0:\n",
        "      return(\"No element in the stack\")\n",
        "    else:\n",
        "      return self.stack.pop()\n",
        "\n",
        "AStack = Stack()\n",
        "AStack.push(\"A\")\n",
        "AStack.push(\"B\")\n",
        "AStack.push(\"C\")\n",
        "print(AStack.stack)\n",
        "\n",
        "AStack.pop()\n",
        "AStack.pop()\n",
        "print(AStack.stack)\n"
      ]
    },
    {
      "cell_type": "code",
      "source": [
        "#Implement by Queues (enqueue and dequeue)\n",
        "class Queue:\n",
        "  def __init__(self):\n",
        "    self.queue = []      #stack implementation using OOP concepts\n",
        "\n",
        "  def enqueue(self, dataval):\n",
        "    if dataval not in self.queue:\n",
        "     return self.queue.append(dataval)\n",
        "    else:\n",
        "      return (\"Queue is already full\")\n",
        "\n",
        "  def dequeue(self):\n",
        "    if len(self.queue)<=0:\n",
        "      return(\"No element in the stack\")\n",
        "    else:\n",
        "      return self.queue.pop(0)\n",
        "\n",
        "AQueue = Queue()\n",
        "AQueue.enqueue(\"A\")\n",
        "AQueue.enqueue(\"B\")\n",
        "AQueue.enqueue(\"C\")\n",
        "AQueue.enqueue(\"D\")\n",
        "\n",
        "print(AQueue.queue)\n",
        "\n",
        "AQueue.dequeue()\n",
        "print(AQueue.queue)\n"
      ],
      "metadata": {
        "colab": {
          "base_uri": "https://localhost:8080/"
        },
        "id": "FE24Zgp-iDdA",
        "outputId": "a2c04f81-dab4-4636-fcca-2b01f17d2846"
      },
      "execution_count": 31,
      "outputs": [
        {
          "output_type": "stream",
          "name": "stdout",
          "text": [
            "['A', 'B', 'C', 'D']\n",
            "['B', 'C', 'D']\n"
          ]
        }
      ]
    }
  ]
}